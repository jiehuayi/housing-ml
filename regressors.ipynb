{
 "cells": [
  {
   "cell_type": "code",
   "execution_count": null,
   "id": "1ebaaa67-6d0d-4b21-9cd6-a685286ad1ad",
   "metadata": {},
   "outputs": [],
   "source": [
    "import pandas as pd\n",
    "import numpy as np\n",
    "import time\n",
    "import joblib\n",
    "from sklearn.model_selection import train_test_split\n",
    "from sklearn.preprocessing import StandardScaler, OneHotEncoder\n",
    "from sklearn.compose import ColumnTransformer\n",
    "from sklearn.pipeline import make_pipeline, Pipeline\n",
    "from sklearn.linear_model import LinearRegression\n",
    "from sklearn.ensemble import RandomForestRegressor, GradientBoostingRegressor\n",
    "from sklearn.neighbors import KNeighborsRegressor\n",
    "from sklearn.neural_network import MLPRegressor\n",
    "# from sklearn.metrics import mean_absolute_error"
   ]
  },
  {
   "cell_type": "markdown",
   "id": "11e5bded-227c-40c8-9076-5e3e355f4682",
   "metadata": {},
   "source": [
    "# Model Training\n",
    "## Pipeline Setup"
   ]
  },
  {
   "cell_type": "code",
   "execution_count": null,
   "id": "8b5ffb06-15b3-4491-84a3-285eeba82b21",
   "metadata": {},
   "outputs": [],
   "source": [
    "training_data = pd.read_csv('./data/combined/total_clean.csv')"
   ]
  },
  {
   "cell_type": "code",
   "execution_count": null,
   "id": "e1735f21-f59b-4dc6-9ade-0e687eac08d2",
   "metadata": {},
   "outputs": [],
   "source": [
    "# active_listings['hypothetical_soldDate'] = pd.to_datetime('today') + pd.DateOffset(months=6)\n",
    "# active_listings['days_from_listing_to_sold'] = (active_listings['hypothetical_soldDate'] - pd.to_datetime(active_listings['listingDate'])).dt.days\n",
    "# active_listings['listingYear'] = pd.to_datetime(active_listings['listingDate']).dt.year\n",
    "# active_listings['listingMonth'] = pd.to_datetime(active_listings['listingDate']).dt.month\n",
    "# active_listings['hypothetical_soldYear'] = active_listings['hypothetical_soldDate'].dt.year\n",
    "# active_listings['hypothetical_soldMonth'] = active_listings['hypothetical_soldDate'].dt.month"
   ]
  },
  {
   "cell_type": "code",
   "execution_count": null,
   "id": "2758f31e-f359-4ff3-b4e8-9064a59e4996",
   "metadata": {},
   "outputs": [],
   "source": [
    "numeric_features = ['beds', 'baths', 'sqFt', 'parking', 'taxes', 'age', 'lat', 'lon', 'daysOnMarket', 'priceToTaxRatio', 'listingYear', 'listingMonth', 'distanceToCenter', 'distanceToSchool']\n",
    "categorical_features = ['propertyType', 'streetAddress', 'nearestSchool', 'postalCode', 'neighborhood']\n",
    "\n",
    "features = numeric_features + categorical_features\n",
    "target = 'price'"
   ]
  },
  {
   "cell_type": "code",
   "execution_count": null,
   "id": "fa256d3a-a1c7-42a5-816e-3dbbc03f58f0",
   "metadata": {},
   "outputs": [],
   "source": [
    "X = training_data[features]\n",
    "y = training_data[target]\n",
    "\n",
    "X_train, X_valid, y_train, y_valid = train_test_split(X, y)"
   ]
  },
  {
   "cell_type": "code",
   "execution_count": null,
   "id": "dc0d83e0-9c01-476d-bb58-0edac9366d10",
   "metadata": {},
   "outputs": [],
   "source": [
    "numeric_transformer = Pipeline(steps=[\n",
    "    ('scaler', StandardScaler())])\n",
    "\n",
    "categorical_transformer = Pipeline(steps=[\n",
    "    ('encoder', OneHotEncoder(handle_unknown='ignore'))])\n",
    "\n",
    "preprocessor = ColumnTransformer(\n",
    "    transformers=[\n",
    "        ('num', numeric_transformer, numeric_features),\n",
    "        ('cat', categorical_transformer, categorical_features)])"
   ]
  },
  {
   "cell_type": "code",
   "execution_count": null,
   "id": "8666a8ea-6eb4-4533-b0ef-0f5838d07e30",
   "metadata": {},
   "outputs": [],
   "source": [
    "out_dir = 'models/'"
   ]
  },
  {
   "cell_type": "markdown",
   "id": "f573a174-636b-4667-9754-d0f396f81a03",
   "metadata": {},
   "source": [
    "## Random Forest Regressor"
   ]
  },
  {
   "cell_type": "code",
   "execution_count": null,
   "id": "44508ac7-7af5-491a-b0ec-5a8a9935a434",
   "metadata": {},
   "outputs": [],
   "source": [
    "name = 'rfr.joblib'\n",
    "rfr = make_pipeline(\n",
    "    preprocessor,\n",
    "    RandomForestRegressor(n_estimators=200, max_depth=8)\n",
    ")"
   ]
  },
  {
   "cell_type": "code",
   "execution_count": null,
   "id": "9772a930-38c5-4bf9-99ab-1403742b0e43",
   "metadata": {},
   "outputs": [],
   "source": [
    "st = time.time()\n",
    "rfr.fit(X_train, y_train)\n",
    "joblib.dump(rfr, out_dir + name)\n",
    "et = time.time()\n",
    "print(f'Random Forest Regressor training time: {(et-st)} seconds')"
   ]
  },
  {
   "cell_type": "markdown",
   "id": "cd87a096-3ef2-43a2-9b10-4eb1fff57613",
   "metadata": {},
   "source": [
    "# Gradient Boosting Regressor"
   ]
  },
  {
   "cell_type": "code",
   "execution_count": null,
   "id": "4536e4da-907d-4e07-931a-dbb23c57bd93",
   "metadata": {},
   "outputs": [],
   "source": [
    "name = 'gbr.joblib'\n",
    "gbr = make_pipeline(\n",
    "    preprocessor,\n",
    "    GradientBoostingRegressor(n_estimators=200, max_depth=8)\n",
    ")"
   ]
  },
  {
   "cell_type": "code",
   "execution_count": null,
   "id": "836657f2-b057-4589-8e30-444b9cfb56f4",
   "metadata": {},
   "outputs": [],
   "source": [
    "st = time.time()\n",
    "gbr.fit(X_train, y_train)\n",
    "joblib.dump(gbr, out_dir + name)\n",
    "et = time.time()\n",
    "print(f'Gradient Boosting Regressor training time: {(et-st)} seconds')"
   ]
  },
  {
   "cell_type": "markdown",
   "id": "9ef26951-09b0-4d55-a5e0-f190be74af50",
   "metadata": {},
   "source": [
    "## kNN Regressor"
   ]
  },
  {
   "cell_type": "code",
   "execution_count": null,
   "id": "8e466b43-aaf6-4352-aaaf-15938b20a46b",
   "metadata": {},
   "outputs": [],
   "source": [
    "name = 'knnr.joblib'\n",
    "knnr = make_pipeline(\n",
    "    preprocessor,\n",
    "    KNeighborsRegressor(n_neighbors=5)\n",
    ")"
   ]
  },
  {
   "cell_type": "code",
   "execution_count": null,
   "id": "c0718420-f7c0-4707-80f7-4bd58f7183a0",
   "metadata": {},
   "outputs": [],
   "source": [
    "st = time.time()\n",
    "knnr.fit(X_train, y_train)\n",
    "joblib.dump(knnr, out_dir + name)\n",
    "et = time.time()\n",
    "print(f'kNN Regressor training time: {(et-st)} seconds')"
   ]
  },
  {
   "cell_type": "markdown",
   "id": "96444d85-2eda-4432-92e5-eb441deeb830",
   "metadata": {},
   "source": [
    "## MultiLayer Perceptron Regressor"
   ]
  },
  {
   "cell_type": "code",
   "execution_count": null,
   "id": "abc2b48b-7306-4c29-a0fc-acc7e2a1942f",
   "metadata": {},
   "outputs": [],
   "source": [
    "name = 'mlpr.joblib'\n",
    "mlpr = make_pipeline(\n",
    "    preprocessor,\n",
    "    MLPRegressor(hidden_layer_sizes=(55, 55), max_iter=500, random_state=50, alpha=0.01)\n",
    ")"
   ]
  },
  {
   "cell_type": "code",
   "execution_count": null,
   "id": "0c9715a7-99de-48f3-a46a-66f2b475bdd3",
   "metadata": {},
   "outputs": [],
   "source": [
    "st = time.time()\n",
    "mlpr.fit(X_train, y_train)\n",
    "joblib.dump(mlpr, out_dir + name)\n",
    "et = time.time()\n",
    "print(f'MLP Regressor training time: {(et-st)} seconds')"
   ]
  },
  {
   "cell_type": "code",
   "execution_count": null,
   "id": "43b43179-10bd-4fae-a1f6-5beb07f6b16b",
   "metadata": {},
   "outputs": [],
   "source": []
  },
  {
   "cell_type": "markdown",
   "id": "15e06ecb-7b99-476a-b3ef-17f575792f76",
   "metadata": {},
   "source": [
    "# Model Validation"
   ]
  },
  {
   "cell_type": "code",
   "execution_count": null,
   "id": "e4919d14-7d94-4dfd-9533-52596772fe14",
   "metadata": {},
   "outputs": [],
   "source": [
    "rf_regressor = joblib.load('models/rfr.joblib')\n",
    "gb_regressor = joblib.load('models/gbr.joblib')\n",
    "knn_regressor = joblib.load('models/knnr.joblib')\n",
    "mlp_regressor = joblib.load('models/mlpr.joblib')"
   ]
  },
  {
   "cell_type": "code",
   "execution_count": null,
   "id": "62e02c36-735c-4db0-8898-ac50e909e8c4",
   "metadata": {},
   "outputs": [],
   "source": [
    "print(f'Random Forest Regressor Train: {rf_regressor.score(X_train, y_train)}')\n",
    "print(f'Random Forest Regressor Valid: {rf_regressor.score(X_valid, y_valid)}')"
   ]
  },
  {
   "cell_type": "code",
   "execution_count": null,
   "id": "031d07f4-40ef-4c96-89df-f74a44f803b8",
   "metadata": {},
   "outputs": [],
   "source": [
    "print(f'Gradient Boosting Regressor Train: {gb_regressor.score(X_train, y_train)}')\n",
    "print(f'Gradient Boosting Regressor Valid: {gb_regressor.score(X_valid, y_valid)}')"
   ]
  },
  {
   "cell_type": "code",
   "execution_count": null,
   "id": "d6e31a29-0913-4f25-b751-32f6c7456241",
   "metadata": {},
   "outputs": [],
   "source": [
    "print(f'KNN Regressor Train: {knn_regressor.score(X_train, y_train)}')\n",
    "print(f'KNN Regressor Valid: {knn_regressor.score(X_valid, y_valid)}')"
   ]
  },
  {
   "cell_type": "code",
   "execution_count": null,
   "id": "ddc932ee-2d71-48f1-8fa9-5633235b3d6e",
   "metadata": {},
   "outputs": [],
   "source": [
    "print(f'MLP Regressor Train: {mlp_regressor.score(X_train, y_train)}')\n",
    "print(f'MLP Regressor Valid: {mlp_regressor.score(X_valid, y_valid)}')"
   ]
  },
  {
   "cell_type": "markdown",
   "id": "dc7c21b9-cb57-4e3f-9c89-48b784f03127",
   "metadata": {},
   "source": [
    "# Model Predictions"
   ]
  },
  {
   "cell_type": "code",
   "execution_count": null,
   "id": "23615110-4d99-4778-bdb8-6b83afe51744",
   "metadata": {},
   "outputs": [],
   "source": [
    "import matplotlib.pyplot as plt\n",
    "from datetime import datetime"
   ]
  },
  {
   "cell_type": "code",
   "execution_count": null,
   "id": "62ef15b2-7831-47c6-b75b-e9d6ca304a44",
   "metadata": {},
   "outputs": [],
   "source": [
    "prediction_data = pd.read_csv('./data/predict/total_clean.csv', parse_dates=['listingDate'])"
   ]
  },
  {
   "cell_type": "code",
   "execution_count": null,
   "id": "761538b9-8972-4982-a448-12249922c4ed",
   "metadata": {},
   "outputs": [],
   "source": [
    "hypothetical_sold_date = datetime(2025, 1, 1)\n",
    "prediction_data['daysOnMarket'] = (hypothetical_sold_date - prediction_data['listingDate']).dt.days\n",
    "\n",
    "X_predict = prediction_data[features]"
   ]
  },
  {
   "cell_type": "code",
   "execution_count": null,
   "id": "b517cdba-0633-4bbe-946e-4432cc8671b2",
   "metadata": {},
   "outputs": [],
   "source": [
    "predicted = gb_regressor.predict(X_predict)\n",
    "X_predict.loc[:,'soldPricePredicted'] = pd.Series(predicted)\n",
    "X_predict.to_csv('data/predict/predicted/output.csv')"
   ]
  },
  {
   "cell_type": "markdown",
   "id": "f9b9a3f7-c78d-407e-b486-5d6bea579180",
   "metadata": {},
   "source": [
    "## Feature Importance Analysis"
   ]
  },
  {
   "cell_type": "code",
   "execution_count": null,
   "id": "fc4a406c-8638-44b2-ada0-2b9e047488ab",
   "metadata": {},
   "outputs": [],
   "source": [
    "transformed_feature_names = (\n",
    "    numeric_features +\n",
    "    list(rf_regressor.named_steps['columntransformer'].transformers_[1][1].get_feature_names_out(categorical_features))\n",
    ")"
   ]
  },
  {
   "cell_type": "code",
   "execution_count": null,
   "id": "0cf82bad-bf2a-4654-aede-17c9d8c5aef5",
   "metadata": {},
   "outputs": [],
   "source": [
    "rf_importances = rf_regressor.named_steps['randomforestregressor'].feature_importances_\n",
    "\n",
    "rf_importance_df = pd.DataFrame({\n",
    "    'feature': transformed_feature_names,\n",
    "    'importance': rf_importances\n",
    "}).sort_values(by='importance', ascending=False)\n",
    "\n",
    "rf_numeric_importance = rf_importance_df[rf_importance_df['feature'].isin(numeric_features)]"
   ]
  },
  {
   "cell_type": "code",
   "execution_count": null,
   "id": "62ac5798-7b54-499a-bca6-e778c40e307b",
   "metadata": {},
   "outputs": [],
   "source": [
    "plt.figure(figsize=(8, 4))\n",
    "plt.bar(rf_numeric_importance['feature'], rf_numeric_importance['importance'])\n",
    "plt.xlabel('Feature')\n",
    "plt.ylabel('Importance')\n",
    "plt.title('Random Forest Feature Importances (Numeric Features)')\n",
    "plt.xticks(rotation=45, ha='right')\n",
    "plt.show()"
   ]
  },
  {
   "cell_type": "code",
   "execution_count": null,
   "id": "ffa51f37-f222-4524-a5e7-d696bd4b0de7",
   "metadata": {},
   "outputs": [],
   "source": [
    "gb_importances = gb_regressor.named_steps['gradientboostingregressor'].feature_importances_\n",
    "\n",
    "gb_importances_df = pd.DataFrame({\n",
    "    'feature': transformed_feature_names,\n",
    "    'importance': gb_importances\n",
    "}).sort_values(by='importance', ascending=False)\n",
    "\n",
    "gb_importances_df = gb_importances_df[gb_importances_df['feature'].isin(numeric_features)]"
   ]
  },
  {
   "cell_type": "code",
   "execution_count": null,
   "id": "493edaff-0a41-4e26-a66d-f3d6395d61f8",
   "metadata": {},
   "outputs": [],
   "source": [
    "plt.figure(figsize=(8, 4))\n",
    "plt.bar(rf_numeric_importance['feature'], rf_numeric_importance['importance'])\n",
    "plt.xlabel('Feature')\n",
    "plt.ylabel('Importance Score')\n",
    "plt.title('Gradient Boosting Feature Importances (Numeric Features)')\n",
    "plt.xticks(rotation=45, ha='right')\n",
    "plt.tight_layout()\n",
    "plt.savefig('graphs/gbr_importance.png')"
   ]
  },
  {
   "cell_type": "code",
   "execution_count": null,
   "id": "ea4ddffb-a12b-4ce3-b5d8-5af841e04555",
   "metadata": {},
   "outputs": [],
   "source": []
  }
 ],
 "metadata": {
  "kernelspec": {
   "display_name": "Python 3 (ipykernel)",
   "language": "python",
   "name": "python3"
  },
  "language_info": {
   "codemirror_mode": {
    "name": "ipython",
    "version": 3
   },
   "file_extension": ".py",
   "mimetype": "text/x-python",
   "name": "python",
   "nbconvert_exporter": "python",
   "pygments_lexer": "ipython3",
   "version": "3.12.3"
  }
 },
 "nbformat": 4,
 "nbformat_minor": 5
}
