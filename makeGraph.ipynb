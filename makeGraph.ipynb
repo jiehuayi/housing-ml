{
 "cells": [
  {
   "cell_type": "code",
   "execution_count": null,
   "metadata": {},
   "outputs": [],
   "source": [
    "import pandas as pd\n",
    "import matplotlib.pyplot as plt\n",
    "import numpy as np\n",
    "from scipy import stats"
   ]
  },
  {
   "cell_type": "code",
   "execution_count": null,
   "metadata": {},
   "outputs": [],
   "source": [
    "#make a graph showing the sold prices of houses based on the number of bedrooms\n",
    "'''\n",
    "def bedroom_graph(city, cityName):\n",
    "    columns_to_graph = ['beds', 'price', 'listingDate']\n",
    "    city = city[(city['beds'] != 0) & (city['beds'] <= 6)]  #second condition not needed, but without looks crazy for now\n",
    "    bedroom_group = city[columns_to_graph].groupby('beds')\n",
    "    city_dfs = {beds: group for beds, group in bedroom_group}\n",
    "    plt.figure(figsize=(10, 6))\n",
    "    plt.xticks(rotation = 25)\n",
    "    for beds, df in city_dfs.items(): #make separate dataframes based on number of bedrooms\n",
    "        df = df.sort_values(by = ['listingDate'], ascending = True)\n",
    "        #grouping bi-weekly with 2W, if want to group by month, use ME\n",
    "        city_grouped = df.groupby(pd.Grouper(key = 'listingDate', freq = '2W')).agg({\n",
    "            'price':'mean',\n",
    "        }).reset_index() \n",
    "        plt.scatter(city_grouped['listingDate'], city_grouped['price'], label = f'{beds} bedrooms')\n",
    "   \n",
    "    plt.legend()\n",
    "    plt.xlabel('Date')\n",
    "    plt.ylabel('Sold Price in millions')\n",
    "    plt.title(f'Housing price based on number of bedrooms in {cityName}')\n",
    "    plt.grid(True)\n",
    "    plt.tight_layout()\n",
    "    plt.savefig(f'graphs/bedroom-graph')\n",
    "\n",
    "#make a graph based on the price per sqft \n",
    "def pricePerSqFt_graph(city, cityName):\n",
    "    city = city[city['pricePerSqFt'] > 0]\n",
    "    city = city.sort_values(by = ['listingDate'], ascending = True)\n",
    "    city_grouped = city.groupby(pd.Grouper(key = 'listingDate', freq = 'W')).agg({\n",
    "        'pricePerSqFt':'mean',\n",
    "    }).reset_index()\n",
    "\n",
    "    plt.figure(figsize=(10, 6))\n",
    "    plt.xticks(rotation = 25)\n",
    "    plt.scatter(city_grouped['listingDate'], city_grouped['pricePerSqFt'])\n",
    "    plt.xlabel('Date')\n",
    "    plt.ylabel('Price per sqft')\n",
    "    plt.title(f'Price per Square Feet in {cityName}')\n",
    "    plt.grid(True)\n",
    "    plt.tight_layout()\n",
    "    plt.savefig(f'graphs/pricePerSqft-graph')\n",
    "'''\n",
    "\n",
    "def bedroom_sqft_graph(city, cityName):\n",
    "    grouped = city.groupby('beds').agg({'pricePerSqFt' : 'mean'}).reset_index()\n",
    "\n",
    "    plt.figure(figsize = (10, 6))\n",
    "    plt.bar(grouped['beds'], grouped['pricePerSqFt'])\n",
    "    plt.title(f'Average price/sqft by number of bedrooms in {cityName}')\n",
    "    plt.xlabel('Number of Bedrooms')\n",
    "    plt.ylabel('Average price/sqft')\n",
    "\n",
    "    plt.show()\n",
    "\n",
    "def distToCenter_graph(city, cityName):\n",
    "    bin = 200 #group distances by per 500 meters to find average within that radius\n",
    "\n",
    "    #cut out outlier\n",
    "    city = city[(city['distanceToCenter'] < 25000) & (city['listingPrice'] < 4e7)].copy()\n",
    "    city['distance_bin'] = pd.cut(city['distanceToCenter'], bins=range(0, int(city['distanceToCenter'].max()) + bin, bin))\n",
    "    avgPrice = city.groupby('distance_bin', observed = True)['listingPrice'].mean().reset_index()\n",
    "    avgPrice['bin_center'] = avgPrice['distance_bin'].apply(lambda x: x.left + (bin/2))  #gets mid-point of circle bin\n",
    "\n",
    "    plt.scatter(city['distanceToCenter'], city['listingPrice'], alpha = 0.5) \n",
    "    plt.plot(avgPrice['bin_center'], avgPrice['listingPrice'], color = 'red', label = 'Average Price')\n",
    "    plt.title(f'Listing Price vs. Distance to City Center in {cityName}')\n",
    "    plt.grid(True)\n",
    "    plt.xlabel('Distance to City Center (meters)')\n",
    "    plt.ylabel('Price')\n",
    "    plt.legend()\n",
    "    plt.tight_layout()\n",
    "\n",
    "    plt.savefig(f'graphs/distanceToCityCenter/{cityName}_dist')\n",
    "    plt.close()\n",
    "\n",
    "    return avgPrice[['listingPrice', 'distance_bin']]\n",
    "\n",
    "def distToSchool_graph(city, cityName):\n",
    "    bin = 200\n",
    "    city = city[(city['distanceToSchool'] < 6000) & (city['listingPrice'] < 4e7)].copy()\n",
    "    city['distance_bin'] = pd.cut(city['distanceToSchool'], bins=range(0, int(city['distanceToSchool'].max()) + bin, bin))\n",
    "    avgPrice = city.groupby('distance_bin', observed = True)['listingPrice'].mean().reset_index()\n",
    "    avgPrice['bin_center'] = avgPrice['distance_bin'].apply(lambda x: x.left + (bin/2))\n",
    "\n",
    "    plt.scatter(city['distanceToSchool'], city['listingPrice'], alpha = 0.5)\n",
    "    plt.plot(avgPrice['bin_center'], avgPrice['listingPrice'], color = 'red', label = 'Average Price')\n",
    "    plt.title(f'Listing Price vs. Distance to Nearest School in {cityName}')\n",
    "    plt.grid(True)\n",
    "    plt.xlabel('Distance to Nearest School (meters)')\n",
    "    plt.ylabel('Price')\n",
    "    plt.legend()\n",
    "    plt.tight_layout()\n",
    "    \n",
    "    plt.savefig(f'graphs/distanceToNearestSchool/{cityName}_dist')\n",
    "    plt.close()\n",
    "\n",
    "    return avgPrice[['listingPrice', 'distance_bin']]\n"
   ]
  },
  {
   "cell_type": "code",
   "execution_count": null,
   "metadata": {},
   "outputs": [],
   "source": [
    "#get data\n",
    "total = pd.read_csv('data/combined/total_clean.csv')\n",
    "total['soldDate'] = pd.to_datetime(total['soldDate'], errors='coerce')\n",
    "total['listingDate'] = pd.to_datetime(total['listingDate'], errors='coerce')"
   ]
  },
  {
   "cell_type": "code",
   "execution_count": null,
   "metadata": {},
   "outputs": [],
   "source": [
    "#drop unusable data and make graphs\n",
    "total1 = total.dropna(subset = ['beds', 'price', 'soldDate', 'pricePerSqFt']).copy()\n",
    "bedroom_sqft_graph(total1, 'the Lower Mainland')\n",
    "\n",
    "#get values of entire lower mainland to compare prices\n",
    "center_dist_prices = distToCenter_graph(total1, 'the Lower Mainland')\n",
    "school_dist_prices = distToSchool_graph(total1, 'the Lower Mainland')\n",
    "\n",
    "for cityName, group in total1.groupby('city'):\n",
    "    distToCenter_graph(group, cityName)\n",
    "    distToSchool_graph(group, cityName)"
   ]
  },
  {
   "cell_type": "code",
   "execution_count": null,
   "metadata": {},
   "outputs": [],
   "source": [
    "#mannwhitney u test to see if more expensive near school or city center\n",
    "max_distance = 5000\n",
    "\n",
    "center_dist_prices = center_dist_prices[center_dist_prices['distance_bin'].apply(lambda x: x.right <= max_distance)]\n",
    "school_dist_prices = school_dist_prices[school_dist_prices['distance_bin'].apply(lambda x: x.right <= max_distance)]\n",
    "\n",
    "isEqual = stats.levene(center_dist_prices['listingPrice'], school_dist_prices['listingPrice'])\n",
    "print(isEqual.pvalue)\n",
    "u_stat, p = stats.mannwhitneyu(center_dist_prices['listingPrice'], school_dist_prices['listingPrice'])\n",
    "print(u_stat, p)"
   ]
  },
  {
   "cell_type": "code",
   "execution_count": null,
   "metadata": {},
   "outputs": [],
   "source": [
    "transform = lambda v : np.log(v)"
   ]
  },
  {
   "cell_type": "code",
   "execution_count": null,
   "metadata": {},
   "outputs": [],
   "source": [
    "beds_prices = total[['beds', 'pricePerSqFt']].copy()\n",
    "beds_prices = beds_prices[np.isfinite(beds_prices['pricePerSqFt'])]\n",
    "beds_prices['priceSqFtTransformed'] = beds_prices['pricePerSqFt'].apply(transform)\n",
    "\n",
    "less_beds = beds_prices[beds_prices['beds'] <= 3]\n",
    "more_beds = beds_prices[beds_prices['beds'] > 3]\n",
    "\n",
    "fig, axes = plt.subplots(2, 2, figsize=(16,5))\n",
    "axes = axes.ravel()\n",
    "\n",
    "axes[0].hist(less_beds['pricePerSqFt'], bins=25, edgecolor='black', alpha=0.8)\n",
    "axes[0].set_title(f'Price per sqft of homes: number of bedrooms ≤ 3')\n",
    "axes[1].hist(more_beds['pricePerSqFt'], bins=25, edgecolor='black', alpha=0.8)\n",
    "axes[1].set_title(f'Price per sqft of homes: number of bedrooms > 3')\n",
    "axes[2].hist(less_beds['priceSqFtTransformed'], bins=25, edgecolor='black', alpha=0.8)\n",
    "axes[2].set_title(f'Transformed price per sqft of homes: number of bedrooms ≤ 3')\n",
    "axes[3].hist(more_beds['priceSqFtTransformed'], bins=25, edgecolor='black', alpha=0.8)\n",
    "axes[3].set_title(f'Transformed price per sqft of homes: number of bedrooms > 3')\n",
    "\n",
    "for i in range(4):\n",
    "    axes[i].set_xlabel('log(Price per SqFt)')\n",
    "    axes[i].set_ylabel('Frequency')\n",
    "\n",
    "plt.tight_layout()\n",
    "plt.savefig('graphs/beds_normality.png')"
   ]
  },
  {
   "cell_type": "code",
   "execution_count": null,
   "metadata": {},
   "outputs": [],
   "source": [
    "# print(stats.mannwhitneyu(less_baths['priceTransformed'], more_baths['priceTransformed']).pvalue)\n",
    "print(stats.ttest_ind(less_beds['priceSqFtTransformed'], more_beds['priceSqFtTransformed'], equal_var=False))"
   ]
  },
  {
   "cell_type": "markdown",
   "metadata": {},
   "source": [
    "# Price Trend"
   ]
  },
  {
   "cell_type": "code",
   "execution_count": null,
   "metadata": {},
   "outputs": [],
   "source": [
    "from scipy.stats import ttest_ind, f_oneway, chi2_contingency"
   ]
  },
  {
   "cell_type": "code",
   "execution_count": null,
   "metadata": {},
   "outputs": [],
   "source": [
    "filtered_week_total = total[total['soldDate'].dt.year >= 2023].copy()\n",
    "filtered_week_total['yearWeek'] = filtered_week_total['soldDate'].dt.to_period('W').dt.to_timestamp()\n",
    "\n",
    "filtered_week_total['ordinalWeek'] = filtered_week_total['yearWeek'].apply(lambda x: x.toordinal())\n",
    "\n",
    "filtered_week_total['pricePerSqFtLog'] = filtered_week_total['pricePerSqFt'].apply(transform)\n",
    "m, b, _, p, _ = stats.linregress(filtered_week_total['ordinalWeek'], filtered_week_total['pricePerSqFtLog'])\n",
    "\n",
    "y_regress = m * filtered_week_total['ordinalWeek'] + b\n",
    "\n",
    "print(f'Regression slope: {m}')\n",
    "print(f'Regression intercept: {b}')\n",
    "print(f'Regression p-value: {p}')"
   ]
  },
  {
   "cell_type": "code",
   "execution_count": null,
   "metadata": {},
   "outputs": [],
   "source": [
    "plt.figure(figsize=(10, 6))\n",
    "plt.scatter(filtered_week_total['yearWeek'], filtered_week_total['pricePerSqFtLog'], alpha=0.7)\n",
    "plt.plot(filtered_week_total['yearWeek'], y_regress, color='red', label='Linear Regression')\n",
    "plt.xlabel('Week')\n",
    "plt.ylabel('Sold Price Per SqFt (log scaled)')\n",
    "plt.title('Weekly Sold Price/SqFt')\n",
    "plt.xticks(rotation=45)\n",
    "plt.grid(True)\n",
    "plt.tight_layout()\n",
    "plt.savefig('graphs/weekly-price-per-sqft-linregress.png')"
   ]
  },
  {
   "cell_type": "code",
   "execution_count": null,
   "metadata": {},
   "outputs": [],
   "source": [
    "# plot residuals\n",
    "pricePerSqFtRes = filtered_week_total['pricePerSqFtLog'] - y_regress\n",
    "plt.figure(figsize=(8, 6))\n",
    "plt.grid(True)\n",
    "plt.hist(pricePerSqFtRes, bins=30, edgecolor='black', alpha=0.7)\n",
    "plt.title('Residuals of Log-Transformed Price Per Square Foot', fontsize=11)\n",
    "plt.xlabel('Residuals', fontsize=10)\n",
    "plt.ylabel('Frequency', fontsize=10)\n",
    "plt.tight_layout()\n",
    "plt.savefig('graphs/pricePerSqFtResiduals.png')"
   ]
  },
  {
   "cell_type": "code",
   "execution_count": null,
   "metadata": {},
   "outputs": [],
   "source": [
    "filtered_week_total['priceLog'] = filtered_week_total['price'].apply(transform)\n",
    "m, b, _, p, _ = stats.linregress(filtered_week_total['ordinalWeek'], filtered_week_total['priceLog'])\n",
    "\n",
    "y_regress = m * filtered_week_total['ordinalWeek'] + b\n",
    "print(f'Regression slope: {m}')\n",
    "print(f'Regression intercept: {b}')\n",
    "print(f'Regression p-value: {p}')"
   ]
  },
  {
   "cell_type": "code",
   "execution_count": null,
   "metadata": {},
   "outputs": [],
   "source": [
    "plt.figure(figsize=(10, 6))\n",
    "plt.scatter(filtered_week_total['yearWeek'], filtered_week_total['priceLog'], alpha=0.7)\n",
    "plt.plot(filtered_week_total['yearWeek'], y_regress, color='red', label='Linear Regression')\n",
    "plt.xlabel('Week')\n",
    "plt.ylabel('Sold Price (log scaled)')\n",
    "plt.title('Weekly Sold Price')\n",
    "plt.xticks(rotation=45)\n",
    "plt.grid(True)\n",
    "plt.tight_layout()\n",
    "plt.savefig('graphs/weekly-price-linregress.png')"
   ]
  },
  {
   "cell_type": "code",
   "execution_count": null,
   "metadata": {},
   "outputs": [],
   "source": [
    "# plot residuals\n",
    "pricePerSqFtRes = filtered_week_total['priceLog'] - y_regress\n",
    "plt.figure(figsize=(8, 6))\n",
    "plt.grid(True)\n",
    "plt.hist(pricePerSqFtRes, bins=30, edgecolor='black', alpha=0.7)\n",
    "plt.title('Residuals of Log-Transformed Price', fontsize=11)\n",
    "plt.xlabel('Residuals', fontsize=10)\n",
    "plt.ylabel('Frequency', fontsize=10)\n",
    "plt.tight_layout()\n",
    "plt.savefig('graphs/priceResiduals.png')"
   ]
  },
  {
   "cell_type": "markdown",
   "metadata": {},
   "source": [
    "# Location Price"
   ]
  },
  {
   "cell_type": "code",
   "execution_count": null,
   "metadata": {},
   "outputs": [],
   "source": [
    "import matplotlib.colors as mcolors"
   ]
  },
  {
   "cell_type": "code",
   "execution_count": null,
   "metadata": {},
   "outputs": [],
   "source": [
    "total_pc = pd.read_csv('data/combined/total_clean.csv')\n",
    "total_pc['postalShortCode'] = total_pc['postalCode'].apply(lambda code: code[:4])\n",
    "postal_prices = total_pc.groupby(['postalShortCode']).agg({'pricePerSqFt': 'mean'}).reset_index()"
   ]
  },
  {
   "cell_type": "code",
   "execution_count": null,
   "metadata": {},
   "outputs": [],
   "source": [
    "postal_city = total_pc[['postalShortCode', 'city']]\n",
    "most_frequent_city = postal_city.groupby('postalShortCode')['city'].agg(lambda x: x.mode()[0]).reset_index()\n",
    "postal_prices = postal_prices.merge(most_frequent_city, on='postalShortCode')\n",
    "\n",
    "postal_neigh = total_pc[['postalShortCode', 'neighborhood']]\n",
    "most_frequent_neigh = postal_neigh.groupby('postalShortCode')['neighborhood'].agg(lambda x: x.mode()[0]).reset_index()\n",
    "postal_prices = postal_prices.merge(most_frequent_neigh, on='postalShortCode')"
   ]
  },
  {
   "cell_type": "code",
   "execution_count": null,
   "metadata": {},
   "outputs": [],
   "source": [
    "values = postal_prices.sort_values(by='pricePerSqFt', ascending=False)\n",
    "cities = total_pc['city'].unique()\n",
    "\n",
    "bar_range = np.arange(len(values['pricePerSqFt'])) * 2\n",
    "colors = plt.get_cmap('tab20').colors\n",
    "color_map = dict(zip(cities, colors))"
   ]
  },
  {
   "cell_type": "code",
   "execution_count": null,
   "metadata": {},
   "outputs": [],
   "source": [
    "plt.figure(figsize=(17, 14))\n",
    "\n",
    "colors = values['city'].map(color_map)\n",
    "bars = plt.bar(bar_range, values['pricePerSqFt'], align='center', width=1, color=colors)\n",
    "plt.title('Average Home Price (Per SqFt) by Postal Code', fontsize=20)\n",
    "plt.xlabel('Postal Code', fontsize=16)\n",
    "plt.ylabel('Average Price per SqFt ($)', fontsize=16)\n",
    "print(values)\n",
    "plt.xticks(bar_range, values['postalShortCode'], rotation=75, ha='center')\n",
    "\n",
    "for bar, neighborhood in zip(bars, values['neighborhood']):\n",
    "    plt.text(bar.get_x() + bar.get_width() / 2, bar.get_height(), neighborhood, ha='left', va='bottom', fontsize=9, rotation=60)\n",
    "\n",
    "handles = [plt.Rectangle((0,0),1,1, color=color_map[city]) for city in color_map]\n",
    "labels = list(color_map.keys())\n",
    "plt.legend(handles, labels, title='City')\n",
    "plt.tight_layout()\n",
    "\n",
    "plt.savefig('graphs/postal_code_prices.png')"
   ]
  },
  {
   "cell_type": "code",
   "execution_count": null,
   "metadata": {},
   "outputs": [],
   "source": []
  }
 ],
 "metadata": {
  "kernelspec": {
   "display_name": "Python 3 (ipykernel)",
   "language": "python",
   "name": "python3"
  },
  "language_info": {
   "codemirror_mode": {
    "name": "ipython",
    "version": 3
   },
   "file_extension": ".py",
   "mimetype": "text/x-python",
   "name": "python",
   "nbconvert_exporter": "python",
   "pygments_lexer": "ipython3",
   "version": "3.12.3"
  }
 },
 "nbformat": 4,
 "nbformat_minor": 4
}
