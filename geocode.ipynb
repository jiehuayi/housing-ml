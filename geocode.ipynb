{
 "cells": [
  {
   "cell_type": "code",
   "execution_count": null,
   "id": "5a4f0ea3-711a-4792-b5d9-36c759373077",
   "metadata": {},
   "outputs": [],
   "source": [
    "from geopy.geocoders import Nominatim\n",
    "from geopy.exc import GeocoderTimedOut\n",
    "import pandas as pd\n",
    "import numpy as np\n",
    "import glob\n",
    "import os\n",
    "import time"
   ]
  },
  {
   "cell_type": "code",
   "execution_count": null,
   "id": "bb94db21-a0a6-4888-ab65-be7ddda30d94",
   "metadata": {},
   "outputs": [],
   "source": [
    "geolocator = Nominatim(user_agent='getGeoInfo')\n",
    "def getLatLon(address):\n",
    "    try:\n",
    "        location = geolocator.geocode(address, timeout=10)\n",
    "        if location:\n",
    "            return pd.Series([location.latitude, location.longitude])\n",
    "        else:\n",
    "            return pd.Series([None, None])\n",
    "    except GeocoderTimedOut:\n",
    "        return getLatLon(address)\n",
    "\n",
    "input_dir = './data/ungeocoded'\n",
    "output_dir = './data/geocoded'"
   ]
  },
  {
   "cell_type": "code",
   "execution_count": null,
   "id": "51a1e276-663a-4564-b856-32625b21d0c2",
   "metadata": {},
   "outputs": [],
   "source": [
    "# gets the longitude and latitude of a address\n",
    "geolocator = Nominatim(user_agent='getGeoInfo')\n",
    "def getLatLon(address):\n",
    "    try:\n",
    "        location = geolocator.geocode(address, timeout=10)\n",
    "        if location:\n",
    "            return pd.Series([location.latitude, location.longitude, location.address])\n",
    "        else:\n",
    "            return pd.Series([None, None, None])\n",
    "    except GeocoderTimedOut:\n",
    "        return getLatLon(address)"
   ]
  },
  {
   "cell_type": "markdown",
   "id": "f5f32621-0224-4251-9e5d-8a1a806bc2f7",
   "metadata": {},
   "source": [
    "## Geocoding Addresses of Sold Homes"
   ]
  },
  {
   "cell_type": "code",
   "execution_count": null,
   "id": "ae505cf7-d9bb-490d-8f98-5bd2db1c43bc",
   "metadata": {},
   "outputs": [],
   "source": [
    "# this step takes a long time... uncomment to run\n",
    "input_dir = './data/ungeocoded'\n",
    "output_dir = './data/geocoded'\n",
    "\n",
    "# input_dir = './data/predict/ungeocoded'\n",
    "# output_dir = './data/predict/geocoded'"
   ]
  },
  {
   "cell_type": "code",
   "execution_count": null,
   "id": "535741ac-7e6a-4c8a-aee0-157735b9a4ea",
   "metadata": {},
   "outputs": [],
   "source": [
    "csv_files = glob.glob(os.path.join(input_dir, '*ungeocoded.csv'))\n",
    "for file in csv_files:\n",
    "    city = os.path.basename(file).replace('-ungeocoded.csv', '')\n",
    "    output_file = os.path.join(output_dir, f'{city}-geocoded.csv')\n",
    "\n",
    "   #be sure to delete the old file (or rename it something else) if you want to recode it\n",
    "    if os.path.exists(output_file):\n",
    "        print(f'{city} already exists! skipping...')\n",
    "        continue\n",
    "    print(f'processing: {city}...')\n",
    "    \n",
    "    df = pd.read_csv(file)\n",
    "    df[['lat', 'lon', 'addressDetails']] = df['address'].apply(getLatLon).apply(pd.Series)\n",
    "    df.to_csv(output_file, index=False)"
   ]
  },
  {
   "cell_type": "markdown",
   "id": "091b8c51-58a3-46fb-8f31-56d08a6ccd0b",
   "metadata": {},
   "source": [
    "# Geocoding City Centers (Feature)"
   ]
  },
  {
   "cell_type": "code",
   "execution_count": null,
   "id": "542e28fb-bc8f-4ad8-b37d-1e8dc98b3f11",
   "metadata": {},
   "outputs": [],
   "source": [
    "# as this is not information achievable from web scraping or through other data, it has been found manually\n",
    "#the comments on the side of the address is the location, can remove at the end of project\n",
    "city_center_mapping = {\n",
    "    'Vancouver' : '701 W Georgia St, Vancouver, BC', #CF Pacific Centre\n",
    "    'Surrey' : '10153 King George Blvd, Surrey, BC', #Central city mall\n",
    "    'Langley' : '20300 Fraser Hwy, Langley, BC', #city centre square\n",
    "    'Richmond' : '6551 No. 3 Rd, Richmond, BC', #CF Richmond Centre\n",
    "    'Burnaby' : '4700 Kingsway, Burnaby, BC', #Metrotown\n",
    "    'Delta' : '1299A 56 St, Delta, BC', #Tsawwassen Town Centre Mall\n",
    "    'Pitt Meadows' : '12007 Harris Rd, Pitt Meadows, BC', #Pit Meadows City Hall (schools, park, shopping mall, transit nearby)\n",
    "    'New Westminster' : '777 Columbia St, New Westminster, BC', #Anvil Centre (college, transit, restaraunts near)\n",
    "    'White Rock' : '15400 Marine Dr, White Rock, BC', #Totem park (near the beach)\n",
    "    'Coquitlam' : '2929 Barnet Hwy #2201, Coquitlam, BC', #Coquitlam centre\n",
    "    'Abbotsford' : '33498 Bevan Ave, AbbotsFord, BC', #McCallum Centre (close to restaraunts, transit, school)\n",
    "    'Maple Ridge' : '11900 Haney Pl, Maple Ridge, BC' #Haney Place Mall, centre of downtown area it seems\n",
    "}\n",
    "\n",
    "data = []\n",
    "\n",
    "for city, city_center_address in city_center_mapping.items():\n",
    "    cityLat, cityLon = getLatLon(city_center_address)\n",
    "    data.append({'city': city, 'cityCenterLat': cityLat, 'cityCenterLon': cityLon})\n",
    "\n",
    "df_cc = pd.DataFrame(data)\n",
    "df_cc.to_csv('./data/features/cityCenters/centers.csv', index=False)"
   ]
  },
  {
   "cell_type": "markdown",
   "id": "57ee2617-c350-46be-ad2f-fc137835c0e3",
   "metadata": {},
   "source": [
    "## Geocode Public Schools"
   ]
  },
  {
   "cell_type": "code",
   "execution_count": null,
   "id": "f6118f1e-fa7d-4ee6-b14e-78686136c67e",
   "metadata": {},
   "outputs": [],
   "source": [
    "# data source: https://bcschoolcontacts.gov.bc.ca/\n",
    "school_csv_files = glob.glob(os.path.join('./data/features/schools/', '*.csv'))\n",
    "district_dfs = [pd.read_csv(csv) for csv in school_csv_files]\n",
    "\n",
    "valid_cities = set(city_center_mapping.keys())\n",
    "\n",
    "schools_df = pd.concat(district_dfs, ignore_index=True)\n",
    "schools_df = schools_df[(schools_df['School Category Code'] == 'Public' ) | (schools_df['School Category Code'] == 'Independent')]\n",
    "schools_df = schools_df[schools_df['Facility Type Code'] == 'Standard'].reset_index()\n",
    "schools_df = schools_df.rename(columns={'District Number': 'district', \n",
    "                                        'Display Name': 'name', \n",
    "                                        'Mailing Address': 'streetAddress', \n",
    "                                        'Mailing Address City': 'city', \n",
    "                                        'Mailing Address PostalCode': 'postalCode'})\n",
    "\n",
    "# Clean addresses\n",
    "schools_df['streetAddress'] = schools_df['streetAddress'].str.title()\n",
    "schools_df['city'] = schools_df['city'].str.title()\n",
    "schools_df = schools_df[schools_df['city'].isin(valid_cities)]\n",
    "schools_df = schools_df[['district', 'name', 'streetAddress', 'city', 'postalCode']]\n",
    "\n",
    "schools_df['address'] = schools_df['streetAddress'] + ', ' + schools_df['city'] + ', BC, Canada'"
   ]
  },
  {
   "cell_type": "code",
   "execution_count": null,
   "id": "84eeb563-48b0-4968-a77b-3f4622abd2d5",
   "metadata": {},
   "outputs": [],
   "source": [
    "schools_df[['lat', 'lon']] = schools_df['address'].apply(getLatLon).apply(pd.Series)"
   ]
  },
  {
   "cell_type": "code",
   "execution_count": null,
   "id": "438101bf-da89-488f-99fc-147472e19dc4",
   "metadata": {},
   "outputs": [],
   "source": [
    "# Some schools use Po BOX mailing addresses. Exclude those.\n",
    "schools_df = schools_df.dropna()\n",
    "schools_df.to_csv('./data/features/schools/schools_total.csv')"
   ]
  },
  {
   "cell_type": "code",
   "execution_count": null,
   "id": "3e14b56a-8221-4bc5-adb6-020e2322deb6",
   "metadata": {},
   "outputs": [],
   "source": []
  }
 ],
 "metadata": {
  "kernelspec": {
   "display_name": "Python 3 (ipykernel)",
   "language": "python",
   "name": "python3"
  },
  "language_info": {
   "codemirror_mode": {
    "name": "ipython",
    "version": 3
   },
   "file_extension": ".py",
   "mimetype": "text/x-python",
   "name": "python",
   "nbconvert_exporter": "python",
   "pygments_lexer": "ipython3",
   "version": "3.12.3"
  }
 },
 "nbformat": 4,
 "nbformat_minor": 5
}
